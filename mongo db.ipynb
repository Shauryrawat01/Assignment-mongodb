{
 "cells": [
  {
   "cell_type": "code",
   "execution_count": 1,
   "id": "9c569467-ee06-4c50-92f7-879dabcf28f6",
   "metadata": {},
   "outputs": [],
   "source": [
    "#Question 1\n",
    "#MongoDB is a NoSQL database. NoSQL databases are a type of database that do not use the traditional relational model Instead, NoSQL databases store data in a variety of ways, such as key-value pairs, documents, or graphs\n",
    "#in case of web application , real time applications ,big data application we use mongo db over sql\n"
   ]
  },
  {
   "cell_type": "code",
   "execution_count": 2,
   "id": "df8656f8-2bf2-44ba-9062-dcd5f0abdb95",
   "metadata": {},
   "outputs": [],
   "source": [
    "#Question 2\n",
    "#MongoDB is a popular NoSQL database management system known for its flexibility, scalability, and ease of use\n",
    "#It is designed to handle large volumes of data\n",
    "#NoSQL and Document-Oriented: it use json format\n",
    "#High Scalability:it is designed for horizontal scalability, which means you can add more servers to distribute the load as your data and user base grow\n",
    "#Indexing:it support various types of indexes, including single-field and compound to optimize query performance"
   ]
  },
  {
   "cell_type": "code",
   "execution_count": 3,
   "id": "34538239-95e5-476a-a844-9efd3f757e54",
   "metadata": {},
   "outputs": [
    {
     "ename": "ModuleNotFoundError",
     "evalue": "No module named 'pymongo'",
     "output_type": "error",
     "traceback": [
      "\u001b[1;31m---------------------------------------------------------------------------\u001b[0m",
      "\u001b[1;31mModuleNotFoundError\u001b[0m                       Traceback (most recent call last)",
      "Cell \u001b[1;32mIn[3], line 2\u001b[0m\n\u001b[0;32m      1\u001b[0m \u001b[38;5;66;03m#Question 3\u001b[39;00m\n\u001b[1;32m----> 2\u001b[0m \u001b[38;5;28;01mimport\u001b[39;00m \u001b[38;5;21;01mpymongo\u001b[39;00m\n\u001b[0;32m      3\u001b[0m client \u001b[38;5;241m=\u001b[39m pymongo\u001b[38;5;241m.\u001b[39mMongoClient(\u001b[38;5;124m\"\u001b[39m\u001b[38;5;124mmongodb://localhost:27017\u001b[39m\u001b[38;5;124m\"\u001b[39m)\n\u001b[0;32m      4\u001b[0m db \u001b[38;5;241m=\u001b[39m client[\u001b[38;5;124m\"\u001b[39m\u001b[38;5;124mmy_database\u001b[39m\u001b[38;5;124m\"\u001b[39m]\n",
      "\u001b[1;31mModuleNotFoundError\u001b[0m: No module named 'pymongo'"
     ]
    }
   ],
   "source": [
    "#Question 3\n",
    "import pymongo\n",
    "client = pymongo.MongoClient(\"mongodb://localhost:27017\")\n",
    "db = client[\"my_database\"]\n",
    "collection = db[\"my_collection\"]"
   ]
  },
  {
   "cell_type": "code",
   "execution_count": 4,
   "id": "bf308514-0bf7-4713-9130-c447b9f045d9",
   "metadata": {},
   "outputs": [
    {
     "ename": "ModuleNotFoundError",
     "evalue": "No module named 'pymongo'",
     "output_type": "error",
     "traceback": [
      "\u001b[1;31m---------------------------------------------------------------------------\u001b[0m",
      "\u001b[1;31mModuleNotFoundError\u001b[0m                       Traceback (most recent call last)",
      "Cell \u001b[1;32mIn[4], line 2\u001b[0m\n\u001b[0;32m      1\u001b[0m \u001b[38;5;66;03m#Question 4\u001b[39;00m\n\u001b[1;32m----> 2\u001b[0m \u001b[38;5;28;01mimport\u001b[39;00m \u001b[38;5;21;01mpymongo\u001b[39;00m\n\u001b[0;32m      5\u001b[0m client \u001b[38;5;241m=\u001b[39m pymongo\u001b[38;5;241m.\u001b[39mMongoClient(\u001b[38;5;124m\"\u001b[39m\u001b[38;5;124mmongodb://localhost:27017\u001b[39m\u001b[38;5;124m\"\u001b[39m)\n\u001b[0;32m      7\u001b[0m db \u001b[38;5;241m=\u001b[39m client[\u001b[38;5;124m\"\u001b[39m\u001b[38;5;124mmy_database\u001b[39m\u001b[38;5;124m\"\u001b[39m]\n",
      "\u001b[1;31mModuleNotFoundError\u001b[0m: No module named 'pymongo'"
     ]
    }
   ],
   "source": [
    "#Question 4\n",
    "import pymongo\n",
    "\n",
    "\n",
    "client = pymongo.MongoClient(\"mongodb://localhost:27017\")\n",
    "\n",
    "db = client[\"my_database\"]\n",
    "\n",
    "\n",
    "collection = db[\"my_collection\"]\n",
    "\n",
    "record = {\"name\": \"deepak kalal\", \"age\": 30}\n",
    "collection.insert_one(record)\n",
    "\n",
    "records = [{\"name\": \"shaury\", \"age\": 20}, {\"name\": \"ramakant\", \"age\": 25}]\n",
    "collection.insert_many(records)\n",
    "\n",
    "results = collection.find()\n",
    "\n",
    "for record in results:\n",
    "    print(record)\n",
    "record = collection.find_one()\n",
    "print(record)"
   ]
  },
  {
   "cell_type": "code",
   "execution_count": 6,
   "id": "278201bc-9b78-4fe1-b096-0449b53ded99",
   "metadata": {},
   "outputs": [
    {
     "ename": "ModuleNotFoundError",
     "evalue": "No module named 'pymongo'",
     "output_type": "error",
     "traceback": [
      "\u001b[1;31m---------------------------------------------------------------------------\u001b[0m",
      "\u001b[1;31mModuleNotFoundError\u001b[0m                       Traceback (most recent call last)",
      "Cell \u001b[1;32mIn[6], line 3\u001b[0m\n\u001b[0;32m      1\u001b[0m \u001b[38;5;66;03m#Question 5\u001b[39;00m\n\u001b[0;32m      2\u001b[0m \u001b[38;5;66;03m#find() method is use to find any word or name etc. in your data base\u001b[39;00m\n\u001b[1;32m----> 3\u001b[0m \u001b[38;5;28;01mimport\u001b[39;00m \u001b[38;5;21;01mpymongo\u001b[39;00m\n\u001b[0;32m      4\u001b[0m client \u001b[38;5;241m=\u001b[39m pymongo\u001b[38;5;241m.\u001b[39mMongoClient(\u001b[38;5;124m\"\u001b[39m\u001b[38;5;124mmongodb://localhost:27017\u001b[39m\u001b[38;5;124m\"\u001b[39m)\n\u001b[0;32m      5\u001b[0m db \u001b[38;5;241m=\u001b[39m client[\u001b[38;5;124m\"\u001b[39m\u001b[38;5;124mmy_database\u001b[39m\u001b[38;5;124m\"\u001b[39m]\n",
      "\u001b[1;31mModuleNotFoundError\u001b[0m: No module named 'pymongo'"
     ]
    }
   ],
   "source": [
    "#Question 5\n",
    "#find() method is use to find any word or name etc. in your data base\n",
    "import pymongo\n",
    "client = pymongo.MongoClient(\"mongodb://localhost:27017\")\n",
    "db = client[\"my_database\"]\n",
    "collection = db[\"my_collection\"]\n",
    "\n",
    "results = collection.find({\"name\": \"Rama\"})\n",
    "for record in results:\n",
    "    print(record)"
   ]
  },
  {
   "cell_type": "code",
   "execution_count": 7,
   "id": "e4b61f23-5222-495b-84f7-9bf89962b99a",
   "metadata": {},
   "outputs": [
    {
     "ename": "ModuleNotFoundError",
     "evalue": "No module named 'pymongo'",
     "output_type": "error",
     "traceback": [
      "\u001b[1;31m---------------------------------------------------------------------------\u001b[0m",
      "\u001b[1;31mModuleNotFoundError\u001b[0m                       Traceback (most recent call last)",
      "Cell \u001b[1;32mIn[7], line 3\u001b[0m\n\u001b[0;32m      1\u001b[0m \u001b[38;5;66;03m#Question 6\u001b[39;00m\n\u001b[0;32m      2\u001b[0m \u001b[38;5;66;03m#The sort() method is used to sort the results of a query.The ordering document specifies the fields that the results should be sorted by and the direction of the sort\u001b[39;00m\n\u001b[1;32m----> 3\u001b[0m \u001b[38;5;28;01mimport\u001b[39;00m \u001b[38;5;21;01mpymongo\u001b[39;00m\n\u001b[0;32m      4\u001b[0m client \u001b[38;5;241m=\u001b[39m pymongo\u001b[38;5;241m.\u001b[39mMongoClient(\u001b[38;5;124m\"\u001b[39m\u001b[38;5;124mmongodb://localhost:27017\u001b[39m\u001b[38;5;124m\"\u001b[39m)\n\u001b[0;32m      5\u001b[0m db \u001b[38;5;241m=\u001b[39m client[\u001b[38;5;124m\"\u001b[39m\u001b[38;5;124mmy_database\u001b[39m\u001b[38;5;124m\"\u001b[39m]\n",
      "\u001b[1;31mModuleNotFoundError\u001b[0m: No module named 'pymongo'"
     ]
    }
   ],
   "source": [
    "#Question 6\n",
    "#The sort() method is used to sort the results of a query.The ordering document specifies the fields that the results should be sorted by and the direction of the sort\n",
    "import pymongo\n",
    "client = pymongo.MongoClient(\"mongodb://localhost:27017\")\n",
    "db = client[\"my_database\"]\n",
    "collection = db[\"my_collection\"]\n",
    "results = collection.find().sort(\"name\", 1)\n",
    "for record in results:\n",
    "    print(record)\n"
   ]
  },
  {
   "cell_type": "code",
   "execution_count": null,
   "id": "feb97780-73ba-4514-9d9c-7e63ab31b96c",
   "metadata": {},
   "outputs": [],
   "source": []
  }
 ],
 "metadata": {
  "kernelspec": {
   "display_name": "Python 3 (ipykernel)",
   "language": "python",
   "name": "python3"
  },
  "language_info": {
   "codemirror_mode": {
    "name": "ipython",
    "version": 3
   },
   "file_extension": ".py",
   "mimetype": "text/x-python",
   "name": "python",
   "nbconvert_exporter": "python",
   "pygments_lexer": "ipython3",
   "version": "3.11.4"
  }
 },
 "nbformat": 4,
 "nbformat_minor": 5
}
